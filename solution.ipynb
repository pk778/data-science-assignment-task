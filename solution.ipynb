{
 "cells": [
  {
   "cell_type": "markdown",
   "id": "7b202ccf",
   "metadata": {},
   "source": [
    "## Assignment Description"
   ]
  },
  {
   "cell_type": "markdown",
   "id": "03fc36e3",
   "metadata": {},
   "source": [
    "Assignment Task for Data Scientists\n",
    "\n",
    "Introduction\n",
    "\n",
    "You are a Data Scientist working at upday, a news aggregator and recommender.\n",
    "\n",
    "The engineering team at upday is gathering on a regular basis articles from all the Web. In order to provide a proper filtering functionality in the app, the articles need to be categorized.\n",
    "\n",
    "You have at your disposal a pre-labelled dataset that maps different articles and their metadata to a specific category.\n",
    "\n",
    "It's up to you now to help the company providing a solution for automatically categorizing articles.\n",
    "\n",
    "Assignment\n",
    "\n",
    "The repository contains a dataset with some english articles and some information about them:\n",
    "\n",
    "category\n",
    "title\n",
    "text\n",
    "url\n",
    "The purpose of the task is to provide a classification model for the articles.\n",
    "\n",
    "Instructions\n",
    "\n",
    "You should make a pull request to this repository containing the solution. If you need to clarify any point of your solution, please include an explanation in the PR description.\n",
    "\n",
    "What we expect:\n",
    "\n",
    "Results from your data exploration and an explanation about the solution you adopted.\n",
    "Documentation of the results of your model, including the choice of model(s), metrics adopted and the final evaluation.\n",
    "The training and evaluation code, ideally as separate scripts.\n",
    "The solution should just perform better than random, also we expect you to use a model that is not just rules-based.\n",
    "\n",
    "How to present the documentation and the code is up to you, whether to provide python scripts, jupyter notebooks or via a different mean.\n",
    "\n",
    "Bonus\n",
    "\n",
    "Show off your engineering skills. What steps would you take to productionize the model?\n",
    "\n",
    "We have listed some ideas below, but we would love to see the steps you would take.\n",
    "\n",
    "Wrap your model into an API and document your instructions on how to test it\n",
    "Or.. Create a Docker image (or surprise us!) that can be used to run your code\n",
    "Or.. Include some unit tests in your training code"
   ]
  },
  {
   "cell_type": "markdown",
   "id": "10f08301",
   "metadata": {},
   "source": [
    "## Solution Description"
   ]
  },
  {
   "cell_type": "markdown",
   "id": "e2d7f279",
   "metadata": {},
   "source": [
    "Text, title and url columns have been used to extract features to be used for multilabel classification. \n",
    "\n",
    "There are 2 types of features created:\n",
    "\n",
    "1. url related features where we add 1/0 columns corresponding to each category, 1 if words that consist this category exist in the url, 0 if not\n",
    "\n",
    "2. text+title related features. Text and title columns have been concatenated, and the new title+text column has been processed to calculate top 300 tfidf features in regard to the category.\n",
    "\n",
    "Model is a neural network classifier created with tensorflow functional api.\n",
    "\n",
    "80% of data we used for training and 20% for testing, model accuracy is around 84% on test dataset which is better than random as requested from the assignment."
   ]
  },
  {
   "cell_type": "markdown",
   "id": "55da06f4",
   "metadata": {},
   "source": [
    "## Libraries Required"
   ]
  },
  {
   "cell_type": "code",
   "execution_count": 1,
   "id": "d21154bb",
   "metadata": {},
   "outputs": [],
   "source": [
    "import pandas as pd\n",
    "import numpy as np\n",
    "import re\n",
    "from nltk.corpus import stopwords\n",
    "from nltk.stem import WordNetLemmatizer\n",
    "\n",
    "import tensorflow as tf\n",
    "from sklearn.model_selection import train_test_split\n",
    "from sklearn.feature_selection import SelectKBest\n",
    "from sklearn.feature_selection import f_classif\n",
    "from sklearn.feature_extraction.text import TfidfVectorizer\n",
    "from sklearn.preprocessing import LabelBinarizer\n",
    "\n",
    "SEED=4"
   ]
  },
  {
   "cell_type": "markdown",
   "id": "cf33d0e7",
   "metadata": {},
   "source": [
    "## Data Overview"
   ]
  },
  {
   "cell_type": "code",
   "execution_count": 2,
   "id": "d6b3456e",
   "metadata": {},
   "outputs": [
    {
     "data": {
      "text/html": [
       "<div>\n",
       "<style scoped>\n",
       "    .dataframe tbody tr th:only-of-type {\n",
       "        vertical-align: middle;\n",
       "    }\n",
       "\n",
       "    .dataframe tbody tr th {\n",
       "        vertical-align: top;\n",
       "    }\n",
       "\n",
       "    .dataframe thead th {\n",
       "        text-align: right;\n",
       "    }\n",
       "</style>\n",
       "<table border=\"1\" class=\"dataframe\">\n",
       "  <thead>\n",
       "    <tr style=\"text-align: right;\">\n",
       "      <th></th>\n",
       "      <th>title</th>\n",
       "      <th>text</th>\n",
       "      <th>url</th>\n",
       "      <th>category</th>\n",
       "    </tr>\n",
       "  </thead>\n",
       "  <tbody>\n",
       "    <tr>\n",
       "      <th>0</th>\n",
       "      <td>Don\"t Mourn the Y Chromosome</td>\n",
       "      <td>The human Y chromosome may vanish one day, but...</td>\n",
       "      <td>http://discovermagazine.com/2014/nov/13-y-not</td>\n",
       "      <td>technology_science</td>\n",
       "    </tr>\n",
       "    <tr>\n",
       "      <th>1</th>\n",
       "      <td>Destiny: Bungie to introduce ammo pack micro-t...</td>\n",
       "      <td>Bungie is putting together plans to start sell...</td>\n",
       "      <td>http://www.ibtimes.co.uk/destiny-bungie-introd...</td>\n",
       "      <td>digital_life</td>\n",
       "    </tr>\n",
       "    <tr>\n",
       "      <th>2</th>\n",
       "      <td>Daruvala to race for Josef Kaufmann Racing in ...</td>\n",
       "      <td>Highly rated Jehan Daruvala will race for Jose...</td>\n",
       "      <td>http://www.thecheckeredflag.co.uk/2015/12/daru...</td>\n",
       "      <td>sports</td>\n",
       "    </tr>\n",
       "    <tr>\n",
       "      <th>3</th>\n",
       "      <td>Secondary tropical forests absorb carbon at hi...</td>\n",
       "      <td>Forests are an important carbon sink. While mo...</td>\n",
       "      <td>http://www.sciencedaily.com/releases/2016/02/1...</td>\n",
       "      <td>technology_science</td>\n",
       "    </tr>\n",
       "    <tr>\n",
       "      <th>4</th>\n",
       "      <td>This Brow Hack Will Change the Way You Fill In...</td>\n",
       "      <td>Before everyone was trying to get eyebrows on ...</td>\n",
       "      <td>http://www.popsugar.com/beauty/How-Use-Brow-Ge...</td>\n",
       "      <td>fashion_beauty_lifestyle</td>\n",
       "    </tr>\n",
       "  </tbody>\n",
       "</table>\n",
       "</div>"
      ],
      "text/plain": [
       "                                               title  \\\n",
       "0                       Don\"t Mourn the Y Chromosome   \n",
       "1  Destiny: Bungie to introduce ammo pack micro-t...   \n",
       "2  Daruvala to race for Josef Kaufmann Racing in ...   \n",
       "3  Secondary tropical forests absorb carbon at hi...   \n",
       "4  This Brow Hack Will Change the Way You Fill In...   \n",
       "\n",
       "                                                text  \\\n",
       "0  The human Y chromosome may vanish one day, but...   \n",
       "1  Bungie is putting together plans to start sell...   \n",
       "2  Highly rated Jehan Daruvala will race for Jose...   \n",
       "3  Forests are an important carbon sink. While mo...   \n",
       "4  Before everyone was trying to get eyebrows on ...   \n",
       "\n",
       "                                                 url                  category  \n",
       "0      http://discovermagazine.com/2014/nov/13-y-not        technology_science  \n",
       "1  http://www.ibtimes.co.uk/destiny-bungie-introd...              digital_life  \n",
       "2  http://www.thecheckeredflag.co.uk/2015/12/daru...                    sports  \n",
       "3  http://www.sciencedaily.com/releases/2016/02/1...        technology_science  \n",
       "4  http://www.popsugar.com/beauty/How-Use-Brow-Ge...  fashion_beauty_lifestyle  "
      ]
     },
     "execution_count": 2,
     "metadata": {},
     "output_type": "execute_result"
    }
   ],
   "source": [
    "data = pd.read_csv('data_redacted.tsv',sep='\\t')\n",
    "data.head()"
   ]
  },
  {
   "cell_type": "code",
   "execution_count": 3,
   "id": "56968f0d",
   "metadata": {},
   "outputs": [
    {
     "data": {
      "text/html": [
       "<div>\n",
       "<style scoped>\n",
       "    .dataframe tbody tr th:only-of-type {\n",
       "        vertical-align: middle;\n",
       "    }\n",
       "\n",
       "    .dataframe tbody tr th {\n",
       "        vertical-align: top;\n",
       "    }\n",
       "\n",
       "    .dataframe thead th {\n",
       "        text-align: right;\n",
       "    }\n",
       "</style>\n",
       "<table border=\"1\" class=\"dataframe\">\n",
       "  <thead>\n",
       "    <tr style=\"text-align: right;\">\n",
       "      <th></th>\n",
       "      <th>title</th>\n",
       "      <th>text</th>\n",
       "      <th>url</th>\n",
       "      <th>category</th>\n",
       "    </tr>\n",
       "  </thead>\n",
       "  <tbody>\n",
       "    <tr>\n",
       "      <th>count</th>\n",
       "      <td>8646</td>\n",
       "      <td>8646</td>\n",
       "      <td>8646</td>\n",
       "      <td>8646</td>\n",
       "    </tr>\n",
       "    <tr>\n",
       "      <th>unique</th>\n",
       "      <td>8639</td>\n",
       "      <td>8646</td>\n",
       "      <td>8646</td>\n",
       "      <td>12</td>\n",
       "    </tr>\n",
       "    <tr>\n",
       "      <th>top</th>\n",
       "      <td>The 10 things in advertising you need to know ...</td>\n",
       "      <td>The human Y chromosome may vanish one day, but...</td>\n",
       "      <td>http://discovermagazine.com/2014/nov/13-y-not</td>\n",
       "      <td>fashion_beauty_lifestyle</td>\n",
       "    </tr>\n",
       "    <tr>\n",
       "      <th>freq</th>\n",
       "      <td>3</td>\n",
       "      <td>1</td>\n",
       "      <td>1</td>\n",
       "      <td>1398</td>\n",
       "    </tr>\n",
       "  </tbody>\n",
       "</table>\n",
       "</div>"
      ],
      "text/plain": [
       "                                                    title  \\\n",
       "count                                                8646   \n",
       "unique                                               8639   \n",
       "top     The 10 things in advertising you need to know ...   \n",
       "freq                                                    3   \n",
       "\n",
       "                                                     text  \\\n",
       "count                                                8646   \n",
       "unique                                               8646   \n",
       "top     The human Y chromosome may vanish one day, but...   \n",
       "freq                                                    1   \n",
       "\n",
       "                                                  url  \\\n",
       "count                                            8646   \n",
       "unique                                           8646   \n",
       "top     http://discovermagazine.com/2014/nov/13-y-not   \n",
       "freq                                                1   \n",
       "\n",
       "                        category  \n",
       "count                       8646  \n",
       "unique                        12  \n",
       "top     fashion_beauty_lifestyle  \n",
       "freq                        1398  "
      ]
     },
     "execution_count": 3,
     "metadata": {},
     "output_type": "execute_result"
    }
   ],
   "source": [
    "data.describe(include='all')"
   ]
  },
  {
   "cell_type": "markdown",
   "id": "a0685f7e",
   "metadata": {},
   "source": [
    "There are title duplicates so we should consider using not only title for category prediction as we could have duplicates in the future as well"
   ]
  },
  {
   "cell_type": "code",
   "execution_count": 4,
   "id": "356333c4",
   "metadata": {},
   "outputs": [
    {
     "data": {
      "text/plain": [
       "<AxesSubplot:>"
      ]
     },
     "execution_count": 4,
     "metadata": {},
     "output_type": "execute_result"
    },
    {
     "data": {
      "image/png": "[encoded data removed]",
      "text/plain": [
       "<Figure size 432x288 with 1 Axes>"
      ]
     },
     "metadata": {
      "needs_background": "light"
     },
     "output_type": "display_data"
    }
   ],
   "source": [
    "#As seen below, there are some categories which are more frequent than others\n",
    "data['category'].hist(orientation='horizontal', bins=12, rwidth=0.4)"
   ]
  },
  {
   "cell_type": "code",
   "execution_count": 5,
   "id": "364417f9",
   "metadata": {},
   "outputs": [
    {
     "data": {
      "text/plain": [
       "fashion_beauty_lifestyle    0.161693\n",
       "sports                      0.134744\n",
       "technology_science          0.120287\n",
       "digital_life                0.085357\n",
       "money_business              0.084779\n",
       "news                        0.074717\n",
       "music                       0.065695\n",
       "culture                     0.063266\n",
       "travel                      0.062919\n",
       "cars_motors                 0.054360\n",
       "politics                    0.049734\n",
       "people_shows                0.042447\n",
       "Name: category, dtype: float64"
      ]
     },
     "execution_count": 5,
     "metadata": {},
     "output_type": "execute_result"
    }
   ],
   "source": [
    "#the distribution of categories in percentages\n",
    "data['category'].value_counts() / data.shape[0]"
   ]
  },
  {
   "cell_type": "markdown",
   "id": "df091d6f",
   "metadata": {},
   "source": [
    "## Text processing"
   ]
  },
  {
   "cell_type": "markdown",
   "id": "365c756f",
   "metadata": {},
   "source": [
    "We will concatenate the title+train columns and will clean text and extract features from this new column"
   ]
  },
  {
   "cell_type": "code",
   "execution_count": 6,
   "id": "f2231b73",
   "metadata": {},
   "outputs": [],
   "source": [
    "data['title_text'] = data['title'] + ' ' + data['text']"
   ]
  },
  {
   "cell_type": "code",
   "execution_count": 7,
   "id": "f965888b",
   "metadata": {},
   "outputs": [],
   "source": [
    "lemmatizer = WordNetLemmatizer()\n",
    "stop_words = set(stopwords.words('english'))\n",
    "\n",
    "def remove_special_chars(x):\n",
    "    return re.sub(r\"[^A-Za-z0-9]+\", \" \", x)\n",
    "\n",
    "def remove_extra_spaces(x):\n",
    "    return \" \".join(x.split())\n",
    "\n",
    "def remove_stopwords(text):\n",
    "    words = text.split(' ')\n",
    "    words = [w for w in words if w not in stop_words]\n",
    "    return ' '.join(words)\n",
    "\n",
    "def lower_text(x):\n",
    "    return x.lower()\n",
    "\n",
    "def lemmatize_words(text):\n",
    "    words = text.split(' ')\n",
    "    words = [lemmatizer.lemmatize(w) for w in words]\n",
    "    return ' '.join(words)\n",
    "\n",
    "def clean_text(x):\n",
    "    x = remove_special_chars(x)\n",
    "    x = remove_extra_spaces(x)\n",
    "    x = lower_text(x)\n",
    "    x = remove_stopwords(x)\n",
    "    x = lemmatize_words(x)\n",
    "    return x"
   ]
  },
  {
   "cell_type": "code",
   "execution_count": 8,
   "id": "b8878208",
   "metadata": {},
   "outputs": [],
   "source": [
    "data['title_text_clean'] = data.apply(lambda x: clean_text(x.title_text), axis=1)"
   ]
  },
  {
   "cell_type": "markdown",
   "id": "c7c25730",
   "metadata": {},
   "source": [
    "## Create Features based on *url* column"
   ]
  },
  {
   "cell_type": "code",
   "execution_count": 9,
   "id": "bd505b55",
   "metadata": {},
   "outputs": [],
   "source": [
    "def add_cat_flag_cols(data):\n",
    "    \"add 1/0 columns if category as word(s) is/are included in url or not\"\n",
    "    categories = list(data['category'].unique())\n",
    "    categories = [(cat,cat.split('_')) for cat in categories]\n",
    "    categories = {cat[0]:cat[1] for cat in categories}\n",
    "\n",
    "    for cat in categories:        \n",
    "        data[cat] = data['url'].str.contains('|'.join(categories[cat])).astype(int)\n",
    "    \n",
    "    return data"
   ]
  },
  {
   "cell_type": "code",
   "execution_count": 10,
   "id": "c0d08d28",
   "metadata": {},
   "outputs": [],
   "source": [
    "data = add_cat_flag_cols(data)"
   ]
  },
  {
   "cell_type": "markdown",
   "id": "3b3dad16",
   "metadata": {},
   "source": [
    "## Split Train Test Data"
   ]
  },
  {
   "cell_type": "code",
   "execution_count": 11,
   "id": "7e5897df",
   "metadata": {},
   "outputs": [],
   "source": [
    "X_train, X_test = train_test_split(data, test_size=0.2, random_state=4, stratify=data['category'])"
   ]
  },
  {
   "cell_type": "markdown",
   "id": "ea21e1a5",
   "metadata": {},
   "source": [
    "## Create & Select features"
   ]
  },
  {
   "cell_type": "code",
   "execution_count": 12,
   "id": "b4adb444",
   "metadata": {},
   "outputs": [],
   "source": [
    "#Calculation of tfidf scores and selection of top 300 related to target column, in our case 'category'\n",
    "\n",
    "tfidf = TfidfVectorizer(min_df=10, max_df=0.3, analyzer='word', max_features=3000)\n",
    "title_text_clean_tfidf_scores = tfidf.fit_transform(X_train.title_text_clean)\n",
    "selector = SelectKBest(f_classif, k=300)\n",
    "title_text_clean_tfidf_topk = selector.fit_transform(title_text_clean_tfidf_scores, X_train['category'])\n",
    "\n",
    "tfidf_topk_input = title_text_clean_tfidf_topk.toarray()"
   ]
  },
  {
   "cell_type": "code",
   "execution_count": 13,
   "id": "8b23b58d",
   "metadata": {},
   "outputs": [
    {
     "name": "stdout",
     "output_type": "stream",
     "text": [
      "words with best tfidf scores in relation to category:['accommodation' 'actor' 'actress' 'adventure' 'ahead' 'aircraft' 'album'\n",
      " 'android' 'app' 'apps' 'art' 'artist' 'athlete' 'audience' 'author'\n",
      " 'authority' 'available' 'band' 'bass' 'beach' 'beat' 'bike' 'billion'\n",
      " 'bmw' 'boat' 'book' 'brake' 'brexit' 'built' 'business' 'cabin' 'camera'\n",
      " 'cameron' 'car' 'champion' 'championship' 'character' 'chemical' 'city'\n",
      " 'club' 'coach' 'coast' 'company' 'composer' 'concert' 'conservative'\n",
      " 'consumer' 'contemporary' 'country' 'crisis' 'cruise' 'cup' 'customer'\n",
      " 'dance' 'data' 'debut' 'defeat' 'democratic' 'design' 'designed'\n",
      " 'destination' 'developer' 'device' 'discovered' 'disease' 'dj' 'dr'\n",
      " 'drama' 'drive' 'driving' 'drum' 'eat' 'eating' 'economic' 'economy'\n",
      " 'education' 'election' 'electric' 'engine' 'england' 'eu' 'europe'\n",
      " 'european' 'event' 'exhibition' 'explore' 'fan' 'feature' 'festival'\n",
      " 'fight' 'film' 'final' 'financial' 'finish' 'finished' 'firm' 'flight'\n",
      " 'food' 'foreign' 'former' 'found' 'fourth' 'fuel' 'gadget' 'gallery'\n",
      " 'game' 'genre' 'google' 'government' 'grand' 'growth' 'guest' 'guide'\n",
      " 'guitar' 'handling' 'healthy' 'holiday' 'hop' 'hospital' 'hotel' 'image'\n",
      " 'incident' 'index' 'industry' 'ingredient' 'injury' 'institute'\n",
      " 'investment' 'investor' 'io' 'island' 'itinerary' 'job' 'journal'\n",
      " 'killed' 'label' 'laboratory' 'labour' 'leader' 'league' 'litre' 'local'\n",
      " 'love' 'luxury' 'lyric' 'market' 'match' 'material' 'medal' 'microsoft'\n",
      " 'mile' 'minister' 'mobile' 'model' 'motor' 'motorcycle' 'mountain'\n",
      " 'movie' 'mp' 'mr' 'museum' 'music' 'musical' 'musician' 'national'\n",
      " 'night' 'offer' 'official' 'olympic' 'olympics' 'opponent' 'opposition'\n",
      " 'parliament' 'party' 'passenger' 'performance' 'phone' 'photographer'\n",
      " 'photography' 'piano' 'play' 'played' 'player' 'police' 'policy'\n",
      " 'political' 'politician' 'politics' 'pool' 'pop' 'portrait' 'power'\n",
      " 'president' 'price' 'prime' 'processor' 'producer' 'production'\n",
      " 'professor' 'published' 'race' 'racing' 'range' 'rate' 'rear' 'record'\n",
      " 'recording' 'referendum' 'reform' 'refugee' 'release' 'released'\n",
      " 'research' 'researcher' 'resort' 'restaurant' 'revenue' 'ride' 'rio'\n",
      " 'road' 'rock' 'room' 'round' 'sale' 'samsung' 'science' 'scientist'\n",
      " 'screen' 'sea' 'season' 'seat' 'second' 'secretary' 'sector' 'sensor'\n",
      " 'series' 'service' 'share' 'ship' 'show' 'singer' 'singing' 'ski'\n",
      " 'skiing' 'slope' 'smart' 'smartphone' 'snow' 'software' 'solo' 'song'\n",
      " 'soul' 'sound' 'spa' 'speed' 'sport' 'star' 'startup' 'state' 'stock'\n",
      " 'story' 'studio' 'study' 'suspension' 'system' 'team' 'technology'\n",
      " 'third' 'title' 'told' 'tour' 'tourist' 'tournament' 'town' 'track'\n",
      " 'trading' 'travel' 'trip' 'turbo' 'twin' 'uk' 'union' 'university' 'use'\n",
      " 'user' 'using' 'vehicle' 'version' 'victory' 'viewer' 'village' 'visit'\n",
      " 'vocal' 'vote' 'voter' 'walk' 'wheel' 'win' 'winner' 'winning']\n"
     ]
    }
   ],
   "source": [
    "top_features = [int(x.replace('x','')) for x in selector.get_feature_names_out()]\n",
    "top_features_names = tfidf.get_feature_names_out()[top_features]\n",
    "print(\"words with best tfidf scores in relation to category:{}\".format(top_features_names))"
   ]
  },
  {
   "cell_type": "code",
   "execution_count": 14,
   "id": "7ea0d294",
   "metadata": {},
   "outputs": [],
   "source": [
    "#prepare input based on category flag columns for url\n",
    "cat_cols = [cat for cat in X_train.columns if cat in set(X_train['category'])]\n",
    "url_cat_input = np.array(X_train[cat_cols].values)"
   ]
  },
  {
   "cell_type": "code",
   "execution_count": 15,
   "id": "28462e22",
   "metadata": {},
   "outputs": [],
   "source": [
    "#create encodings for the categories available\n",
    "cat_encoder = LabelBinarizer()\n",
    "cat_encodings = cat_encoder.fit_transform(X_train['category'])"
   ]
  },
  {
   "cell_type": "markdown",
   "id": "d8db6567",
   "metadata": {},
   "source": [
    "## Create & Train Model"
   ]
  },
  {
   "cell_type": "code",
   "execution_count": 16,
   "id": "28ca3504",
   "metadata": {},
   "outputs": [],
   "source": [
    "tf.random.set_seed(SEED)\n",
    "\n",
    "def create_model():\n",
    "    \"\"\"\n",
    "    neural network with tensorflow functional api to concatenate values \n",
    "    from tfidf pipeline and url flag values    \n",
    "    \"\"\"\n",
    "    tfidf_layer = tf.keras.layers.Input(shape=(300,))\n",
    "    url_flag_layer = tf.keras.layers.Input(shape=(12,))   \n",
    "    cc = tf.keras.layers.Concatenate()([tfidf_layer,url_flag_layer])\n",
    "    cc_f = tf.keras.layers.Flatten()(cc)\n",
    "    cc1 = tf.keras.layers.Dense(100, activation='relu')(cc_f)\n",
    "    cc2 = tf.keras.layers.Dropout(0.2)(cc1)\n",
    "    cc3 = tf.keras.layers.Dense(50, activation='relu')(cc2)\n",
    "    output_layer = tf.keras.layers.Dense(12,activation=\"softmax\")(cc3)\n",
    "    model = tf.keras.Model(inputs=[tfidf_layer, url_flag_layer], outputs=output_layer)\n",
    "    model.compile(loss=tf.keras.losses.CategoricalCrossentropy(),\n",
    "                  optimizer=tf.keras.optimizers.Adam(),metrics=\"accuracy\")\n",
    "    return model"
   ]
  },
  {
   "cell_type": "code",
   "execution_count": 17,
   "id": "1254f94a",
   "metadata": {},
   "outputs": [
    {
     "name": "stderr",
     "output_type": "stream",
     "text": [
      "2022-04-10 14:25:27.737803: I tensorflow/core/platform/cpu_feature_guard.cc:151] This TensorFlow binary is optimized with oneAPI Deep Neural Network Library (oneDNN) to use the following CPU instructions in performance-critical operations:  AVX2 FMA\n",
      "To enable them in other operations, rebuild TensorFlow with the appropriate compiler flags.\n"
     ]
    }
   ],
   "source": [
    "model = create_model()"
   ]
  },
  {
   "cell_type": "code",
   "execution_count": 18,
   "id": "39f81eea",
   "metadata": {},
   "outputs": [
    {
     "name": "stdout",
     "output_type": "stream",
     "text": [
      "Epoch 1/20\n",
      "312/312 [==============================] - 1s 1ms/step - loss: 1.6599 - accuracy: 0.5286 - val_loss: 0.9500 - val_accuracy: 0.7254\n",
      "Epoch 2/20\n",
      "312/312 [==============================] - 0s 1ms/step - loss: 0.7739 - accuracy: 0.7792 - val_loss: 0.6926 - val_accuracy: 0.7775\n",
      "Epoch 3/20\n",
      "312/312 [==============================] - 0s 1ms/step - loss: 0.6063 - accuracy: 0.8180 - val_loss: 0.6363 - val_accuracy: 0.8006\n",
      "Epoch 4/20\n",
      "312/312 [==============================] - 0s 1ms/step - loss: 0.5396 - accuracy: 0.8337 - val_loss: 0.6079 - val_accuracy: 0.8092\n",
      "Epoch 5/20\n",
      "312/312 [==============================] - 0s 1ms/step - loss: 0.4969 - accuracy: 0.8462 - val_loss: 0.6002 - val_accuracy: 0.8150\n",
      "Epoch 6/20\n",
      "312/312 [==============================] - 0s 1ms/step - loss: 0.4690 - accuracy: 0.8528 - val_loss: 0.5926 - val_accuracy: 0.8121\n",
      "Epoch 7/20\n",
      "312/312 [==============================] - 0s 1ms/step - loss: 0.4360 - accuracy: 0.8617 - val_loss: 0.5842 - val_accuracy: 0.8150\n",
      "Epoch 8/20\n",
      "312/312 [==============================] - 0s 1ms/step - loss: 0.4218 - accuracy: 0.8628 - val_loss: 0.5905 - val_accuracy: 0.8165\n",
      "Epoch 9/20\n",
      "312/312 [==============================] - 0s 1ms/step - loss: 0.3942 - accuracy: 0.8748 - val_loss: 0.5855 - val_accuracy: 0.8223\n"
     ]
    },
    {
     "data": {
      "text/plain": [
       "<keras.callbacks.History at 0x7f7acda40d30>"
      ]
     },
     "execution_count": 18,
     "metadata": {},
     "output_type": "execute_result"
    }
   ],
   "source": [
    "#We use callback for early stopping so as to avoid overfitting\n",
    "callback = tf.keras.callbacks.EarlyStopping(monitor='val_loss', mode='min', patience=2)\n",
    "model.fit([tfidf_topk_input, url_cat_input], cat_encodings, batch_size=20, epochs=20, validation_split=0.1,callbacks=[callback])"
   ]
  },
  {
   "cell_type": "markdown",
   "id": "d80189f3",
   "metadata": {},
   "source": [
    "## Evaluate on Test Dataset"
   ]
  },
  {
   "cell_type": "code",
   "execution_count": 19,
   "id": "0b93ad3c",
   "metadata": {},
   "outputs": [],
   "source": [
    "def evaluate_add_preds(model, data, tfidf, selector, cat_cols, cat_encoder):\n",
    "    \"evaluate on data and add predictions\"\n",
    "    title_text_clean_tfidf_scores = tfidf.transform(data.title_text_clean)\n",
    "    title_text_clean_tfidf_topk = selector.transform(title_text_clean_tfidf_scores)\n",
    "    \n",
    "    tfidf_topk_input = title_text_clean_tfidf_topk.toarray()\n",
    "    url_cat_input = np.array(data[cat_cols].values)\n",
    "    cat_encodings = cat_encoder.transform(data['category'])\n",
    "    \n",
    "    model.evaluate([tfidf_topk_input, url_cat_input], cat_encodings)    \n",
    "    \n",
    "    preds = model.predict([tfidf_topk_input, url_cat_input])\n",
    "    preds = [[preds[i].argmax(), preds[i][preds[i].argmax()]] for i in range(len(preds))]\n",
    "    preds = [[cat_encoder.classes_[pred[0]],pred[1]] for pred in preds]\n",
    "    \n",
    "    X_test['category_pred'] = [pred[0] for pred in preds]\n",
    "    X_test['pred_prob'] = [pred[1] for pred in preds]\n",
    "    \n",
    "    return X_test"
   ]
  },
  {
   "cell_type": "code",
   "execution_count": 20,
   "id": "da5402e8",
   "metadata": {},
   "outputs": [
    {
     "name": "stdout",
     "output_type": "stream",
     "text": [
      "55/55 [==============================] - 0s 726us/step - loss: 0.5430 - accuracy: 0.8393\n"
     ]
    }
   ],
   "source": [
    "X_test = evaluate_add_preds(model, X_test, tfidf, selector, cat_cols, cat_encoder)"
   ]
  },
  {
   "cell_type": "markdown",
   "id": "ee3944e4",
   "metadata": {},
   "source": [
    "## Conclusions"
   ]
  },
  {
   "cell_type": "markdown",
   "id": "cdd48873",
   "metadata": {},
   "source": [
    "Accuracy of the model on test set is around 84% which is similar to what we would expect according to the train/validation results of the last epoch. Therefore the model seems to generalize well and works better than random. (Note that best result for a random model could be around 16% if we had a model which would predict always \"fashion_beauty_lifestyle\" category which is the most frequent in our dataset)\n",
    "\n",
    "Crosstable below indicates the areas where we could work for improvement. In specific, there are several where category \"fashion_beauty_lifestyle\" is predicted falsely as \"technology_science\" and vice versa. In addition, there are cases where \"news\" category is falsely predicted as \"politics\". \n",
    "\n",
    "As next steps we could try to identify additional features which could help us seperate better these categories."
   ]
  },
  {
   "cell_type": "code",
   "execution_count": 21,
   "id": "9d151799",
   "metadata": {},
   "outputs": [
    {
     "data": {
      "text/html": [
       "<div>\n",
       "<style scoped>\n",
       "    .dataframe tbody tr th:only-of-type {\n",
       "        vertical-align: middle;\n",
       "    }\n",
       "\n",
       "    .dataframe tbody tr th {\n",
       "        vertical-align: top;\n",
       "    }\n",
       "\n",
       "    .dataframe thead th {\n",
       "        text-align: right;\n",
       "    }\n",
       "</style>\n",
       "<table border=\"1\" class=\"dataframe\">\n",
       "  <thead>\n",
       "    <tr style=\"text-align: right;\">\n",
       "      <th>predicted</th>\n",
       "      <th>cars_motors</th>\n",
       "      <th>culture</th>\n",
       "      <th>digital_life</th>\n",
       "      <th>fashion_beauty_lifestyle</th>\n",
       "      <th>money_business</th>\n",
       "      <th>music</th>\n",
       "      <th>news</th>\n",
       "      <th>people_shows</th>\n",
       "      <th>politics</th>\n",
       "      <th>sports</th>\n",
       "      <th>technology_science</th>\n",
       "      <th>travel</th>\n",
       "    </tr>\n",
       "    <tr>\n",
       "      <th>actual</th>\n",
       "      <th></th>\n",
       "      <th></th>\n",
       "      <th></th>\n",
       "      <th></th>\n",
       "      <th></th>\n",
       "      <th></th>\n",
       "      <th></th>\n",
       "      <th></th>\n",
       "      <th></th>\n",
       "      <th></th>\n",
       "      <th></th>\n",
       "      <th></th>\n",
       "    </tr>\n",
       "  </thead>\n",
       "  <tbody>\n",
       "    <tr>\n",
       "      <th>cars_motors</th>\n",
       "      <td>87</td>\n",
       "      <td>1</td>\n",
       "      <td>2</td>\n",
       "      <td>1</td>\n",
       "      <td>2</td>\n",
       "      <td>0</td>\n",
       "      <td>0</td>\n",
       "      <td>0</td>\n",
       "      <td>1</td>\n",
       "      <td>0</td>\n",
       "      <td>0</td>\n",
       "      <td>0</td>\n",
       "    </tr>\n",
       "    <tr>\n",
       "      <th>culture</th>\n",
       "      <td>0</td>\n",
       "      <td>85</td>\n",
       "      <td>1</td>\n",
       "      <td>9</td>\n",
       "      <td>3</td>\n",
       "      <td>1</td>\n",
       "      <td>0</td>\n",
       "      <td>4</td>\n",
       "      <td>2</td>\n",
       "      <td>1</td>\n",
       "      <td>3</td>\n",
       "      <td>0</td>\n",
       "    </tr>\n",
       "    <tr>\n",
       "      <th>digital_life</th>\n",
       "      <td>4</td>\n",
       "      <td>2</td>\n",
       "      <td>126</td>\n",
       "      <td>3</td>\n",
       "      <td>4</td>\n",
       "      <td>0</td>\n",
       "      <td>4</td>\n",
       "      <td>1</td>\n",
       "      <td>0</td>\n",
       "      <td>0</td>\n",
       "      <td>2</td>\n",
       "      <td>2</td>\n",
       "    </tr>\n",
       "    <tr>\n",
       "      <th>fashion_beauty_lifestyle</th>\n",
       "      <td>3</td>\n",
       "      <td>7</td>\n",
       "      <td>5</td>\n",
       "      <td>231</td>\n",
       "      <td>2</td>\n",
       "      <td>0</td>\n",
       "      <td>5</td>\n",
       "      <td>6</td>\n",
       "      <td>1</td>\n",
       "      <td>1</td>\n",
       "      <td>14</td>\n",
       "      <td>5</td>\n",
       "    </tr>\n",
       "    <tr>\n",
       "      <th>money_business</th>\n",
       "      <td>2</td>\n",
       "      <td>2</td>\n",
       "      <td>9</td>\n",
       "      <td>9</td>\n",
       "      <td>116</td>\n",
       "      <td>0</td>\n",
       "      <td>0</td>\n",
       "      <td>1</td>\n",
       "      <td>2</td>\n",
       "      <td>1</td>\n",
       "      <td>4</td>\n",
       "      <td>1</td>\n",
       "    </tr>\n",
       "    <tr>\n",
       "      <th>music</th>\n",
       "      <td>0</td>\n",
       "      <td>1</td>\n",
       "      <td>0</td>\n",
       "      <td>0</td>\n",
       "      <td>0</td>\n",
       "      <td>108</td>\n",
       "      <td>2</td>\n",
       "      <td>3</td>\n",
       "      <td>0</td>\n",
       "      <td>0</td>\n",
       "      <td>0</td>\n",
       "      <td>0</td>\n",
       "    </tr>\n",
       "    <tr>\n",
       "      <th>news</th>\n",
       "      <td>5</td>\n",
       "      <td>2</td>\n",
       "      <td>2</td>\n",
       "      <td>9</td>\n",
       "      <td>3</td>\n",
       "      <td>0</td>\n",
       "      <td>80</td>\n",
       "      <td>1</td>\n",
       "      <td>18</td>\n",
       "      <td>0</td>\n",
       "      <td>7</td>\n",
       "      <td>2</td>\n",
       "    </tr>\n",
       "    <tr>\n",
       "      <th>people_shows</th>\n",
       "      <td>0</td>\n",
       "      <td>5</td>\n",
       "      <td>1</td>\n",
       "      <td>5</td>\n",
       "      <td>0</td>\n",
       "      <td>2</td>\n",
       "      <td>2</td>\n",
       "      <td>54</td>\n",
       "      <td>1</td>\n",
       "      <td>3</td>\n",
       "      <td>0</td>\n",
       "      <td>0</td>\n",
       "    </tr>\n",
       "    <tr>\n",
       "      <th>politics</th>\n",
       "      <td>0</td>\n",
       "      <td>0</td>\n",
       "      <td>0</td>\n",
       "      <td>0</td>\n",
       "      <td>6</td>\n",
       "      <td>0</td>\n",
       "      <td>8</td>\n",
       "      <td>0</td>\n",
       "      <td>68</td>\n",
       "      <td>0</td>\n",
       "      <td>4</td>\n",
       "      <td>0</td>\n",
       "    </tr>\n",
       "    <tr>\n",
       "      <th>sports</th>\n",
       "      <td>2</td>\n",
       "      <td>2</td>\n",
       "      <td>2</td>\n",
       "      <td>3</td>\n",
       "      <td>1</td>\n",
       "      <td>0</td>\n",
       "      <td>3</td>\n",
       "      <td>2</td>\n",
       "      <td>0</td>\n",
       "      <td>216</td>\n",
       "      <td>2</td>\n",
       "      <td>0</td>\n",
       "    </tr>\n",
       "    <tr>\n",
       "      <th>technology_science</th>\n",
       "      <td>1</td>\n",
       "      <td>1</td>\n",
       "      <td>6</td>\n",
       "      <td>13</td>\n",
       "      <td>1</td>\n",
       "      <td>1</td>\n",
       "      <td>1</td>\n",
       "      <td>0</td>\n",
       "      <td>6</td>\n",
       "      <td>1</td>\n",
       "      <td>177</td>\n",
       "      <td>0</td>\n",
       "    </tr>\n",
       "    <tr>\n",
       "      <th>travel</th>\n",
       "      <td>1</td>\n",
       "      <td>2</td>\n",
       "      <td>1</td>\n",
       "      <td>1</td>\n",
       "      <td>0</td>\n",
       "      <td>0</td>\n",
       "      <td>0</td>\n",
       "      <td>0</td>\n",
       "      <td>0</td>\n",
       "      <td>0</td>\n",
       "      <td>0</td>\n",
       "      <td>104</td>\n",
       "    </tr>\n",
       "  </tbody>\n",
       "</table>\n",
       "</div>"
      ],
      "text/plain": [
       "predicted                 cars_motors  culture  digital_life  \\\n",
       "actual                                                         \n",
       "cars_motors                        87        1             2   \n",
       "culture                             0       85             1   \n",
       "digital_life                        4        2           126   \n",
       "fashion_beauty_lifestyle            3        7             5   \n",
       "money_business                      2        2             9   \n",
       "music                               0        1             0   \n",
       "news                                5        2             2   \n",
       "people_shows                        0        5             1   \n",
       "politics                            0        0             0   \n",
       "sports                              2        2             2   \n",
       "technology_science                  1        1             6   \n",
       "travel                              1        2             1   \n",
       "\n",
       "predicted                 fashion_beauty_lifestyle  money_business  music  \\\n",
       "actual                                                                      \n",
       "cars_motors                                      1               2      0   \n",
       "culture                                          9               3      1   \n",
       "digital_life                                     3               4      0   \n",
       "fashion_beauty_lifestyle                       231               2      0   \n",
       "money_business                                   9             116      0   \n",
       "music                                            0               0    108   \n",
       "news                                             9               3      0   \n",
       "people_shows                                     5               0      2   \n",
       "politics                                         0               6      0   \n",
       "sports                                           3               1      0   \n",
       "technology_science                              13               1      1   \n",
       "travel                                           1               0      0   \n",
       "\n",
       "predicted                 news  people_shows  politics  sports  \\\n",
       "actual                                                           \n",
       "cars_motors                  0             0         1       0   \n",
       "culture                      0             4         2       1   \n",
       "digital_life                 4             1         0       0   \n",
       "fashion_beauty_lifestyle     5             6         1       1   \n",
       "money_business               0             1         2       1   \n",
       "music                        2             3         0       0   \n",
       "news                        80             1        18       0   \n",
       "people_shows                 2            54         1       3   \n",
       "politics                     8             0        68       0   \n",
       "sports                       3             2         0     216   \n",
       "technology_science           1             0         6       1   \n",
       "travel                       0             0         0       0   \n",
       "\n",
       "predicted                 technology_science  travel  \n",
       "actual                                                \n",
       "cars_motors                                0       0  \n",
       "culture                                    3       0  \n",
       "digital_life                               2       2  \n",
       "fashion_beauty_lifestyle                  14       5  \n",
       "money_business                             4       1  \n",
       "music                                      0       0  \n",
       "news                                       7       2  \n",
       "people_shows                               0       0  \n",
       "politics                                   4       0  \n",
       "sports                                     2       0  \n",
       "technology_science                       177       0  \n",
       "travel                                     0     104  "
      ]
     },
     "execution_count": 21,
     "metadata": {},
     "output_type": "execute_result"
    }
   ],
   "source": [
    "pd.crosstab(X_test['category'], X_test['category_pred'], rownames=['actual'], colnames=['predicted'])"
   ]
  }
 ],
 "metadata": {
  "kernelspec": {
   "display_name": "Python 3 (ipykernel)",
   "language": "python",
   "name": "python3"
  },
  "language_info": {
   "codemirror_mode": {
    "name": "ipython",
    "version": 3
   },
   "file_extension": ".py",
   "mimetype": "text/x-python",
   "name": "python",
   "nbconvert_exporter": "python",
   "pygments_lexer": "ipython3",
   "version": "3.8.13"
  }
 },
 "nbformat": 4,
 "nbformat_minor": 5
}
